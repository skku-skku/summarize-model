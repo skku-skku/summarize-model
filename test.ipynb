{
 "cells": [
  {
   "cell_type": "code",
   "execution_count": 1,
   "metadata": {},
   "outputs": [
    {
     "name": "stdout",
     "output_type": "stream",
     "text": [
      "Collecting git+https://github.com/skku-skku/summarize-model.git\n",
      "  Cloning https://github.com/skku-skku/summarize-model.git to /private/var/folders/f4/tmy3_62j52n251v90rm6sc700000gn/T/pip-req-build-cy13e4f2\n",
      "  Running command git clone --filter=blob:none --quiet https://github.com/skku-skku/summarize-model.git /private/var/folders/f4/tmy3_62j52n251v90rm6sc700000gn/T/pip-req-build-cy13e4f2\n",
      "  Resolved https://github.com/skku-skku/summarize-model.git to commit 5c6f0f2fe64db151b97ab8fc5a5b167abc8dd94d\n",
      "  Preparing metadata (setup.py) ... \u001b[?25ldone\n",
      "\u001b[?25hRequirement already satisfied: pandas in /Users/yejin/miniforge3/envs/tf25/lib/python3.8/site-packages (from skku-skku-summarize-model==0.0.1) (1.4.4)\n",
      "Requirement already satisfied: torch==1.10.0 in /Users/yejin/miniforge3/envs/tf25/lib/python3.8/site-packages (from skku-skku-summarize-model==0.0.1) (1.10.0)\n",
      "Requirement already satisfied: transformers==4.8.2 in /Users/yejin/miniforge3/envs/tf25/lib/python3.8/site-packages (from skku-skku-summarize-model==0.0.1) (4.8.2)\n",
      "Requirement already satisfied: pytorch-lightning==1.3.8 in /Users/yejin/miniforge3/envs/tf25/lib/python3.8/site-packages (from skku-skku-summarize-model==0.0.1) (1.3.8)\n",
      "Requirement already satisfied: tensorboard!=2.5.0,>=2.2.0 in /Users/yejin/miniforge3/envs/tf25/lib/python3.8/site-packages (from pytorch-lightning==1.3.8->skku-skku-summarize-model==0.0.1) (2.10.1)\n",
      "Requirement already satisfied: future>=0.17.1 in /Users/yejin/miniforge3/envs/tf25/lib/python3.8/site-packages (from pytorch-lightning==1.3.8->skku-skku-summarize-model==0.0.1) (0.18.3)\n",
      "Requirement already satisfied: numpy>=1.17.2 in /Users/yejin/miniforge3/envs/tf25/lib/python3.8/site-packages (from pytorch-lightning==1.3.8->skku-skku-summarize-model==0.0.1) (1.24.2)\n",
      "Requirement already satisfied: torchmetrics>=0.2.0 in /Users/yejin/miniforge3/envs/tf25/lib/python3.8/site-packages (from pytorch-lightning==1.3.8->skku-skku-summarize-model==0.0.1) (0.11.4)\n",
      "Requirement already satisfied: packaging>=17.0 in /Users/yejin/miniforge3/envs/tf25/lib/python3.8/site-packages (from pytorch-lightning==1.3.8->skku-skku-summarize-model==0.0.1) (21.3)\n",
      "Requirement already satisfied: tqdm>=4.41.0 in /Users/yejin/miniforge3/envs/tf25/lib/python3.8/site-packages (from pytorch-lightning==1.3.8->skku-skku-summarize-model==0.0.1) (4.64.1)\n",
      "Requirement already satisfied: PyYAML<=5.4.1,>=5.1 in /Users/yejin/miniforge3/envs/tf25/lib/python3.8/site-packages (from pytorch-lightning==1.3.8->skku-skku-summarize-model==0.0.1) (5.4.1)\n",
      "Requirement already satisfied: pillow!=8.3.0 in /Users/yejin/miniforge3/envs/tf25/lib/python3.8/site-packages (from pytorch-lightning==1.3.8->skku-skku-summarize-model==0.0.1) (9.2.0)\n",
      "Requirement already satisfied: pyDeprecate==0.3.0 in /Users/yejin/miniforge3/envs/tf25/lib/python3.8/site-packages (from pytorch-lightning==1.3.8->skku-skku-summarize-model==0.0.1) (0.3.0)\n",
      "Requirement already satisfied: fsspec[http]!=2021.06.0,>=2021.05.0 in /Users/yejin/miniforge3/envs/tf25/lib/python3.8/site-packages (from pytorch-lightning==1.3.8->skku-skku-summarize-model==0.0.1) (2023.4.0)\n",
      "Requirement already satisfied: typing-extensions in /Users/yejin/miniforge3/envs/tf25/lib/python3.8/site-packages (from torch==1.10.0->skku-skku-summarize-model==0.0.1) (3.7.4.3)\n",
      "Requirement already satisfied: filelock in /Users/yejin/miniforge3/envs/tf25/lib/python3.8/site-packages (from transformers==4.8.2->skku-skku-summarize-model==0.0.1) (3.11.0)\n",
      "Requirement already satisfied: requests in /Users/yejin/miniforge3/envs/tf25/lib/python3.8/site-packages (from transformers==4.8.2->skku-skku-summarize-model==0.0.1) (2.28.1)\n",
      "Requirement already satisfied: sacremoses in /Users/yejin/miniforge3/envs/tf25/lib/python3.8/site-packages (from transformers==4.8.2->skku-skku-summarize-model==0.0.1) (0.0.53)\n",
      "Requirement already satisfied: huggingface-hub==0.0.12 in /Users/yejin/miniforge3/envs/tf25/lib/python3.8/site-packages (from transformers==4.8.2->skku-skku-summarize-model==0.0.1) (0.0.12)\n",
      "Requirement already satisfied: regex!=2019.12.17 in /Users/yejin/miniforge3/envs/tf25/lib/python3.8/site-packages (from transformers==4.8.2->skku-skku-summarize-model==0.0.1) (2023.3.23)\n",
      "Requirement already satisfied: tokenizers<0.11,>=0.10.1 in /Users/yejin/miniforge3/envs/tf25/lib/python3.8/site-packages (from transformers==4.8.2->skku-skku-summarize-model==0.0.1) (0.10.3)\n",
      "Requirement already satisfied: python-dateutil>=2.8.1 in /Users/yejin/miniforge3/envs/tf25/lib/python3.8/site-packages (from pandas->skku-skku-summarize-model==0.0.1) (2.8.2)\n",
      "Requirement already satisfied: pytz>=2020.1 in /Users/yejin/miniforge3/envs/tf25/lib/python3.8/site-packages (from pandas->skku-skku-summarize-model==0.0.1) (2022.2.1)\n",
      "Requirement already satisfied: aiohttp!=4.0.0a0,!=4.0.0a1 in /Users/yejin/miniforge3/envs/tf25/lib/python3.8/site-packages (from fsspec[http]!=2021.06.0,>=2021.05.0->pytorch-lightning==1.3.8->skku-skku-summarize-model==0.0.1) (3.8.4)\n",
      "Requirement already satisfied: pyparsing!=3.0.5,>=2.0.2 in /Users/yejin/miniforge3/envs/tf25/lib/python3.8/site-packages (from packaging>=17.0->pytorch-lightning==1.3.8->skku-skku-summarize-model==0.0.1) (3.0.9)\n",
      "Requirement already satisfied: six>=1.5 in /Users/yejin/miniforge3/envs/tf25/lib/python3.8/site-packages (from python-dateutil>=2.8.1->pandas->skku-skku-summarize-model==0.0.1) (1.15.0)\n",
      "Requirement already satisfied: tensorboard-data-server<0.7.0,>=0.6.0 in /Users/yejin/miniforge3/envs/tf25/lib/python3.8/site-packages (from tensorboard!=2.5.0,>=2.2.0->pytorch-lightning==1.3.8->skku-skku-summarize-model==0.0.1) (0.6.1)\n",
      "Requirement already satisfied: setuptools>=41.0.0 in /Users/yejin/miniforge3/envs/tf25/lib/python3.8/site-packages (from tensorboard!=2.5.0,>=2.2.0->pytorch-lightning==1.3.8->skku-skku-summarize-model==0.0.1) (65.4.0)\n",
      "Requirement already satisfied: google-auth<3,>=1.6.3 in /Users/yejin/miniforge3/envs/tf25/lib/python3.8/site-packages (from tensorboard!=2.5.0,>=2.2.0->pytorch-lightning==1.3.8->skku-skku-summarize-model==0.0.1) (2.12.0)\n",
      "Requirement already satisfied: wheel>=0.26 in /Users/yejin/miniforge3/envs/tf25/lib/python3.8/site-packages (from tensorboard!=2.5.0,>=2.2.0->pytorch-lightning==1.3.8->skku-skku-summarize-model==0.0.1) (0.35.1)\n",
      "Requirement already satisfied: markdown>=2.6.8 in /Users/yejin/miniforge3/envs/tf25/lib/python3.8/site-packages (from tensorboard!=2.5.0,>=2.2.0->pytorch-lightning==1.3.8->skku-skku-summarize-model==0.0.1) (3.4.1)\n",
      "Requirement already satisfied: protobuf<3.20,>=3.9.2 in /Users/yejin/miniforge3/envs/tf25/lib/python3.8/site-packages (from tensorboard!=2.5.0,>=2.2.0->pytorch-lightning==1.3.8->skku-skku-summarize-model==0.0.1) (3.19.5)\n",
      "Requirement already satisfied: tensorboard-plugin-wit>=1.6.0 in /Users/yejin/miniforge3/envs/tf25/lib/python3.8/site-packages (from tensorboard!=2.5.0,>=2.2.0->pytorch-lightning==1.3.8->skku-skku-summarize-model==0.0.1) (1.8.1)\n",
      "Requirement already satisfied: google-auth-oauthlib<0.5,>=0.4.1 in /Users/yejin/miniforge3/envs/tf25/lib/python3.8/site-packages (from tensorboard!=2.5.0,>=2.2.0->pytorch-lightning==1.3.8->skku-skku-summarize-model==0.0.1) (0.4.6)\n",
      "Requirement already satisfied: absl-py>=0.4 in /Users/yejin/miniforge3/envs/tf25/lib/python3.8/site-packages (from tensorboard!=2.5.0,>=2.2.0->pytorch-lightning==1.3.8->skku-skku-summarize-model==0.0.1) (0.10.0)\n",
      "Requirement already satisfied: werkzeug>=1.0.1 in /Users/yejin/miniforge3/envs/tf25/lib/python3.8/site-packages (from tensorboard!=2.5.0,>=2.2.0->pytorch-lightning==1.3.8->skku-skku-summarize-model==0.0.1) (2.2.2)\n",
      "Requirement already satisfied: grpcio>=1.24.3 in /Users/yejin/miniforge3/envs/tf25/lib/python3.8/site-packages (from tensorboard!=2.5.0,>=2.2.0->pytorch-lightning==1.3.8->skku-skku-summarize-model==0.0.1) (1.34.1)\n",
      "Requirement already satisfied: certifi>=2017.4.17 in /Users/yejin/miniforge3/envs/tf25/lib/python3.8/site-packages (from requests->transformers==4.8.2->skku-skku-summarize-model==0.0.1) (2022.9.24)\n",
      "Requirement already satisfied: charset-normalizer<3,>=2 in /Users/yejin/miniforge3/envs/tf25/lib/python3.8/site-packages (from requests->transformers==4.8.2->skku-skku-summarize-model==0.0.1) (2.1.1)\n",
      "Requirement already satisfied: urllib3<1.27,>=1.21.1 in /Users/yejin/miniforge3/envs/tf25/lib/python3.8/site-packages (from requests->transformers==4.8.2->skku-skku-summarize-model==0.0.1) (1.26.12)\n",
      "Requirement already satisfied: idna<4,>=2.5 in /Users/yejin/miniforge3/envs/tf25/lib/python3.8/site-packages (from requests->transformers==4.8.2->skku-skku-summarize-model==0.0.1) (3.4)\n",
      "Requirement already satisfied: joblib in /Users/yejin/miniforge3/envs/tf25/lib/python3.8/site-packages (from sacremoses->transformers==4.8.2->skku-skku-summarize-model==0.0.1) (1.2.0)\n",
      "Requirement already satisfied: click in /Users/yejin/miniforge3/envs/tf25/lib/python3.8/site-packages (from sacremoses->transformers==4.8.2->skku-skku-summarize-model==0.0.1) (8.1.3)\n",
      "Requirement already satisfied: attrs>=17.3.0 in /Users/yejin/miniforge3/envs/tf25/lib/python3.8/site-packages (from aiohttp!=4.0.0a0,!=4.0.0a1->fsspec[http]!=2021.06.0,>=2021.05.0->pytorch-lightning==1.3.8->skku-skku-summarize-model==0.0.1) (22.1.0)\n",
      "Requirement already satisfied: yarl<2.0,>=1.0 in /Users/yejin/miniforge3/envs/tf25/lib/python3.8/site-packages (from aiohttp!=4.0.0a0,!=4.0.0a1->fsspec[http]!=2021.06.0,>=2021.05.0->pytorch-lightning==1.3.8->skku-skku-summarize-model==0.0.1) (1.8.2)\n",
      "Requirement already satisfied: frozenlist>=1.1.1 in /Users/yejin/miniforge3/envs/tf25/lib/python3.8/site-packages (from aiohttp!=4.0.0a0,!=4.0.0a1->fsspec[http]!=2021.06.0,>=2021.05.0->pytorch-lightning==1.3.8->skku-skku-summarize-model==0.0.1) (1.3.3)\n",
      "Requirement already satisfied: aiosignal>=1.1.2 in /Users/yejin/miniforge3/envs/tf25/lib/python3.8/site-packages (from aiohttp!=4.0.0a0,!=4.0.0a1->fsspec[http]!=2021.06.0,>=2021.05.0->pytorch-lightning==1.3.8->skku-skku-summarize-model==0.0.1) (1.3.1)\n",
      "Requirement already satisfied: multidict<7.0,>=4.5 in /Users/yejin/miniforge3/envs/tf25/lib/python3.8/site-packages (from aiohttp!=4.0.0a0,!=4.0.0a1->fsspec[http]!=2021.06.0,>=2021.05.0->pytorch-lightning==1.3.8->skku-skku-summarize-model==0.0.1) (6.0.4)\n",
      "Requirement already satisfied: async-timeout<5.0,>=4.0.0a3 in /Users/yejin/miniforge3/envs/tf25/lib/python3.8/site-packages (from aiohttp!=4.0.0a0,!=4.0.0a1->fsspec[http]!=2021.06.0,>=2021.05.0->pytorch-lightning==1.3.8->skku-skku-summarize-model==0.0.1) (4.0.2)\n",
      "Requirement already satisfied: cachetools<6.0,>=2.0.0 in /Users/yejin/miniforge3/envs/tf25/lib/python3.8/site-packages (from google-auth<3,>=1.6.3->tensorboard!=2.5.0,>=2.2.0->pytorch-lightning==1.3.8->skku-skku-summarize-model==0.0.1) (5.2.0)\n",
      "Requirement already satisfied: rsa<5,>=3.1.4 in /Users/yejin/miniforge3/envs/tf25/lib/python3.8/site-packages (from google-auth<3,>=1.6.3->tensorboard!=2.5.0,>=2.2.0->pytorch-lightning==1.3.8->skku-skku-summarize-model==0.0.1) (4.9)\n",
      "Requirement already satisfied: pyasn1-modules>=0.2.1 in /Users/yejin/miniforge3/envs/tf25/lib/python3.8/site-packages (from google-auth<3,>=1.6.3->tensorboard!=2.5.0,>=2.2.0->pytorch-lightning==1.3.8->skku-skku-summarize-model==0.0.1) (0.2.8)\n",
      "Requirement already satisfied: requests-oauthlib>=0.7.0 in /Users/yejin/miniforge3/envs/tf25/lib/python3.8/site-packages (from google-auth-oauthlib<0.5,>=0.4.1->tensorboard!=2.5.0,>=2.2.0->pytorch-lightning==1.3.8->skku-skku-summarize-model==0.0.1) (1.3.1)\n",
      "Requirement already satisfied: importlib-metadata>=4.4 in /Users/yejin/miniforge3/envs/tf25/lib/python3.8/site-packages (from markdown>=2.6.8->tensorboard!=2.5.0,>=2.2.0->pytorch-lightning==1.3.8->skku-skku-summarize-model==0.0.1) (4.12.0)\n",
      "Requirement already satisfied: MarkupSafe>=2.1.1 in /Users/yejin/miniforge3/envs/tf25/lib/python3.8/site-packages (from werkzeug>=1.0.1->tensorboard!=2.5.0,>=2.2.0->pytorch-lightning==1.3.8->skku-skku-summarize-model==0.0.1) (2.1.1)\n",
      "Requirement already satisfied: zipp>=0.5 in /Users/yejin/miniforge3/envs/tf25/lib/python3.8/site-packages (from importlib-metadata>=4.4->markdown>=2.6.8->tensorboard!=2.5.0,>=2.2.0->pytorch-lightning==1.3.8->skku-skku-summarize-model==0.0.1) (3.8.1)\n",
      "Requirement already satisfied: pyasn1<0.5.0,>=0.4.6 in /Users/yejin/miniforge3/envs/tf25/lib/python3.8/site-packages (from pyasn1-modules>=0.2.1->google-auth<3,>=1.6.3->tensorboard!=2.5.0,>=2.2.0->pytorch-lightning==1.3.8->skku-skku-summarize-model==0.0.1) (0.4.8)\n",
      "Requirement already satisfied: oauthlib>=3.0.0 in /Users/yejin/miniforge3/envs/tf25/lib/python3.8/site-packages (from requests-oauthlib>=0.7.0->google-auth-oauthlib<0.5,>=0.4.1->tensorboard!=2.5.0,>=2.2.0->pytorch-lightning==1.3.8->skku-skku-summarize-model==0.0.1) (3.2.1)\n"
     ]
    }
   ],
   "source": [
    "!pip install git+https://github.com/skku-skku/summarize-model.git"
   ]
  },
  {
   "cell_type": "code",
   "execution_count": 3,
   "metadata": {},
   "outputs": [],
   "source": [
    "import easydict\n",
    "import logging\n",
    "\n",
    "args = easydict.EasyDict({\n",
    "    'train_file' : '../data/train.csv',\n",
    "    'test_file' : '../data/test.csv',\n",
    "    'max_len' : 128,\n",
    "    'max_epochs' : 3,\n",
    "    'num_workers' : 5,\n",
    "    'batch_size' : 14,\n",
    "    'lr' : 3e-5,\n",
    "    'warmup_ratio' : 0.1,\n",
    "})"
   ]
  },
  {
   "cell_type": "code",
   "execution_count": 4,
   "metadata": {},
   "outputs": [
    {
     "ename": "ImportError",
     "evalue": "cannot import name 'get_num_classes' from 'torchmetrics.utilities.data' (/Users/yejin/miniforge3/envs/tf25/lib/python3.8/site-packages/torchmetrics/utilities/data.py)",
     "output_type": "error",
     "traceback": [
      "\u001b[0;31m---------------------------------------------------------------------------\u001b[0m",
      "\u001b[0;31mImportError\u001b[0m                               Traceback (most recent call last)",
      "\u001b[1;32m/Users/yejin/Yejin_drive/VSC_projects/summarize-model/test.ipynb Cell 3\u001b[0m in \u001b[0;36m1\n\u001b[0;32m----> <a href='vscode-notebook-cell:/Users/yejin/Yejin_drive/VSC_projects/summarize-model/test.ipynb#W2sZmlsZQ%3D%3D?line=0'>1</a>\u001b[0m \u001b[39mfrom\u001b[39;00m \u001b[39mKoBARTSummary\u001b[39;00m \u001b[39mimport\u001b[39;00m KoBARTConditionGenerationTrainer\n\u001b[1;32m      <a href='vscode-notebook-cell:/Users/yejin/Yejin_drive/VSC_projects/summarize-model/test.ipynb#W2sZmlsZQ%3D%3D?line=1'>2</a>\u001b[0m trainer \u001b[39m=\u001b[39m KoBARTConditionGenerationTrainer(args)\n\u001b[1;32m      <a href='vscode-notebook-cell:/Users/yejin/Yejin_drive/VSC_projects/summarize-model/test.ipynb#W2sZmlsZQ%3D%3D?line=2'>3</a>\u001b[0m trainer\u001b[39m.\u001b[39mtrain()\n",
      "File \u001b[0;32m~/Yejin_drive/VSC_projects/summarize-model/KoBARTSummary/__init__.py:1\u001b[0m\n\u001b[0;32m----> 1\u001b[0m \u001b[39mfrom\u001b[39;00m \u001b[39m.\u001b[39;00m\u001b[39mdataset\u001b[39;00m \u001b[39mimport\u001b[39;00m KoBARTSummaryDataset\n\u001b[1;32m      2\u001b[0m \u001b[39mfrom\u001b[39;00m \u001b[39m.\u001b[39;00m\u001b[39mmodel\u001b[39;00m \u001b[39mimport\u001b[39;00m Base, KoBARTConditionalGeneration\n\u001b[1;32m      3\u001b[0m \u001b[39mfrom\u001b[39;00m \u001b[39m.\u001b[39;00m\u001b[39mtrain\u001b[39;00m \u001b[39mimport\u001b[39;00m ArgsBase, KoBARTConditionalGenerationTrainer\n",
      "File \u001b[0;32m~/Yejin_drive/VSC_projects/summarize-model/KoBARTSummary/dataset.py:10\u001b[0m\n\u001b[1;32m      8\u001b[0m \u001b[39mfrom\u001b[39;00m \u001b[39mtqdm\u001b[39;00m \u001b[39mimport\u001b[39;00m tqdm, trange\n\u001b[1;32m      9\u001b[0m \u001b[39mfrom\u001b[39;00m \u001b[39mtorch\u001b[39;00m\u001b[39m.\u001b[39;00m\u001b[39mutils\u001b[39;00m\u001b[39m.\u001b[39;00m\u001b[39mdata\u001b[39;00m \u001b[39mimport\u001b[39;00m Dataset, DataLoader\n\u001b[0;32m---> 10\u001b[0m \u001b[39mimport\u001b[39;00m \u001b[39mpytorch_lightning\u001b[39;00m \u001b[39mas\u001b[39;00m \u001b[39mpl\u001b[39;00m\n\u001b[1;32m     11\u001b[0m \u001b[39mfrom\u001b[39;00m \u001b[39mfunctools\u001b[39;00m \u001b[39mimport\u001b[39;00m partial\n\u001b[1;32m     13\u001b[0m \u001b[39mclass\u001b[39;00m \u001b[39mKoBARTSummaryDataset\u001b[39;00m(Dataset):\n",
      "File \u001b[0;32m~/miniforge3/envs/tf25/lib/python3.8/site-packages/pytorch_lightning/__init__.py:20\u001b[0m\n\u001b[1;32m     17\u001b[0m _PACKAGE_ROOT \u001b[39m=\u001b[39m os\u001b[39m.\u001b[39mpath\u001b[39m.\u001b[39mdirname(\u001b[39m__file__\u001b[39m)\n\u001b[1;32m     18\u001b[0m _PROJECT_ROOT \u001b[39m=\u001b[39m os\u001b[39m.\u001b[39mpath\u001b[39m.\u001b[39mdirname(_PACKAGE_ROOT)\n\u001b[0;32m---> 20\u001b[0m \u001b[39mfrom\u001b[39;00m \u001b[39mpytorch_lightning\u001b[39;00m \u001b[39mimport\u001b[39;00m metrics  \u001b[39m# noqa: E402\u001b[39;00m\n\u001b[1;32m     21\u001b[0m \u001b[39mfrom\u001b[39;00m \u001b[39mpytorch_lightning\u001b[39;00m\u001b[39m.\u001b[39;00m\u001b[39mcallbacks\u001b[39;00m \u001b[39mimport\u001b[39;00m Callback  \u001b[39m# noqa: E402\u001b[39;00m\n\u001b[1;32m     22\u001b[0m \u001b[39mfrom\u001b[39;00m \u001b[39mpytorch_lightning\u001b[39;00m\u001b[39m.\u001b[39;00m\u001b[39mcore\u001b[39;00m \u001b[39mimport\u001b[39;00m LightningDataModule, LightningModule  \u001b[39m# noqa: E402\u001b[39;00m\n",
      "File \u001b[0;32m~/miniforge3/envs/tf25/lib/python3.8/site-packages/pytorch_lightning/metrics/__init__.py:15\u001b[0m\n\u001b[1;32m      1\u001b[0m \u001b[39m# Copyright The PyTorch Lightning team.\u001b[39;00m\n\u001b[1;32m      2\u001b[0m \u001b[39m#\u001b[39;00m\n\u001b[1;32m      3\u001b[0m \u001b[39m# Licensed under the Apache License, Version 2.0 (the \"License\");\u001b[39;00m\n\u001b[0;32m   (...)\u001b[0m\n\u001b[1;32m     12\u001b[0m \u001b[39m# See the License for the specific language governing permissions and\u001b[39;00m\n\u001b[1;32m     13\u001b[0m \u001b[39m# limitations under the License.\u001b[39;00m\n\u001b[0;32m---> 15\u001b[0m \u001b[39mfrom\u001b[39;00m \u001b[39mpytorch_lightning\u001b[39;00m\u001b[39m.\u001b[39;00m\u001b[39mmetrics\u001b[39;00m\u001b[39m.\u001b[39;00m\u001b[39mclassification\u001b[39;00m \u001b[39mimport\u001b[39;00m (  \u001b[39m# noqa: F401\u001b[39;00m\n\u001b[1;32m     16\u001b[0m     Accuracy,\n\u001b[1;32m     17\u001b[0m     AUC,\n\u001b[1;32m     18\u001b[0m     AUROC,\n\u001b[1;32m     19\u001b[0m     AveragePrecision,\n\u001b[1;32m     20\u001b[0m     ConfusionMatrix,\n\u001b[1;32m     21\u001b[0m     F1,\n\u001b[1;32m     22\u001b[0m     FBeta,\n\u001b[1;32m     23\u001b[0m     HammingDistance,\n\u001b[1;32m     24\u001b[0m     IoU,\n\u001b[1;32m     25\u001b[0m     Precision,\n\u001b[1;32m     26\u001b[0m     PrecisionRecallCurve,\n\u001b[1;32m     27\u001b[0m     Recall,\n\u001b[1;32m     28\u001b[0m     ROC,\n\u001b[1;32m     29\u001b[0m     StatScores,\n\u001b[1;32m     30\u001b[0m )\n\u001b[1;32m     31\u001b[0m \u001b[39mfrom\u001b[39;00m \u001b[39mpytorch_lightning\u001b[39;00m\u001b[39m.\u001b[39;00m\u001b[39mmetrics\u001b[39;00m\u001b[39m.\u001b[39;00m\u001b[39mmetric\u001b[39;00m \u001b[39mimport\u001b[39;00m Metric, MetricCollection  \u001b[39m# noqa: F401\u001b[39;00m\n\u001b[1;32m     32\u001b[0m \u001b[39mfrom\u001b[39;00m \u001b[39mpytorch_lightning\u001b[39;00m\u001b[39m.\u001b[39;00m\u001b[39mmetrics\u001b[39;00m\u001b[39m.\u001b[39;00m\u001b[39mregression\u001b[39;00m \u001b[39mimport\u001b[39;00m (  \u001b[39m# noqa: F401\u001b[39;00m\n\u001b[1;32m     33\u001b[0m     ExplainedVariance,\n\u001b[1;32m     34\u001b[0m     MeanAbsoluteError,\n\u001b[0;32m   (...)\u001b[0m\n\u001b[1;32m     39\u001b[0m     SSIM,\n\u001b[1;32m     40\u001b[0m )\n",
      "File \u001b[0;32m~/miniforge3/envs/tf25/lib/python3.8/site-packages/pytorch_lightning/metrics/classification/__init__.py:14\u001b[0m\n\u001b[1;32m      1\u001b[0m \u001b[39m# Copyright The PyTorch Lightning team.\u001b[39;00m\n\u001b[1;32m      2\u001b[0m \u001b[39m#\u001b[39;00m\n\u001b[1;32m      3\u001b[0m \u001b[39m# Licensed under the Apache License, Version 2.0 (the \"License\");\u001b[39;00m\n\u001b[0;32m   (...)\u001b[0m\n\u001b[1;32m     12\u001b[0m \u001b[39m# See the License for the specific language governing permissions and\u001b[39;00m\n\u001b[1;32m     13\u001b[0m \u001b[39m# limitations under the License.\u001b[39;00m\n\u001b[0;32m---> 14\u001b[0m \u001b[39mfrom\u001b[39;00m \u001b[39mpytorch_lightning\u001b[39;00m\u001b[39m.\u001b[39;00m\u001b[39mmetrics\u001b[39;00m\u001b[39m.\u001b[39;00m\u001b[39mclassification\u001b[39;00m\u001b[39m.\u001b[39;00m\u001b[39maccuracy\u001b[39;00m \u001b[39mimport\u001b[39;00m Accuracy  \u001b[39m# noqa: F401\u001b[39;00m\n\u001b[1;32m     15\u001b[0m \u001b[39mfrom\u001b[39;00m \u001b[39mpytorch_lightning\u001b[39;00m\u001b[39m.\u001b[39;00m\u001b[39mmetrics\u001b[39;00m\u001b[39m.\u001b[39;00m\u001b[39mclassification\u001b[39;00m\u001b[39m.\u001b[39;00m\u001b[39mauc\u001b[39;00m \u001b[39mimport\u001b[39;00m AUC  \u001b[39m# noqa: F401\u001b[39;00m\n\u001b[1;32m     16\u001b[0m \u001b[39mfrom\u001b[39;00m \u001b[39mpytorch_lightning\u001b[39;00m\u001b[39m.\u001b[39;00m\u001b[39mmetrics\u001b[39;00m\u001b[39m.\u001b[39;00m\u001b[39mclassification\u001b[39;00m\u001b[39m.\u001b[39;00m\u001b[39mauroc\u001b[39;00m \u001b[39mimport\u001b[39;00m AUROC  \u001b[39m# noqa: F401\u001b[39;00m\n",
      "File \u001b[0;32m~/miniforge3/envs/tf25/lib/python3.8/site-packages/pytorch_lightning/metrics/classification/accuracy.py:18\u001b[0m\n\u001b[1;32m     14\u001b[0m \u001b[39mfrom\u001b[39;00m \u001b[39mtyping\u001b[39;00m \u001b[39mimport\u001b[39;00m Any, Callable, Optional\n\u001b[1;32m     16\u001b[0m \u001b[39mfrom\u001b[39;00m \u001b[39mtorchmetrics\u001b[39;00m \u001b[39mimport\u001b[39;00m Accuracy \u001b[39mas\u001b[39;00m _Accuracy\n\u001b[0;32m---> 18\u001b[0m \u001b[39mfrom\u001b[39;00m \u001b[39mpytorch_lightning\u001b[39;00m\u001b[39m.\u001b[39;00m\u001b[39mmetrics\u001b[39;00m\u001b[39m.\u001b[39;00m\u001b[39mutils\u001b[39;00m \u001b[39mimport\u001b[39;00m deprecated_metrics\n\u001b[1;32m     21\u001b[0m \u001b[39mclass\u001b[39;00m \u001b[39mAccuracy\u001b[39;00m(_Accuracy):\n\u001b[1;32m     23\u001b[0m     \u001b[39m@deprecated_metrics\u001b[39m(target\u001b[39m=\u001b[39m_Accuracy)\n\u001b[1;32m     24\u001b[0m     \u001b[39mdef\u001b[39;00m \u001b[39m__init__\u001b[39m(\n\u001b[1;32m     25\u001b[0m         \u001b[39mself\u001b[39m,\n\u001b[0;32m   (...)\u001b[0m\n\u001b[1;32m     32\u001b[0m         dist_sync_fn: Callable \u001b[39m=\u001b[39m \u001b[39mNone\u001b[39;00m,\n\u001b[1;32m     33\u001b[0m     ):\n",
      "File \u001b[0;32m~/miniforge3/envs/tf25/lib/python3.8/site-packages/pytorch_lightning/metrics/utils.py:22\u001b[0m\n\u001b[1;32m     20\u001b[0m \u001b[39mfrom\u001b[39;00m \u001b[39mtorchmetrics\u001b[39;00m\u001b[39m.\u001b[39;00m\u001b[39mutilities\u001b[39;00m\u001b[39m.\u001b[39;00m\u001b[39mdata\u001b[39;00m \u001b[39mimport\u001b[39;00m dim_zero_mean \u001b[39mas\u001b[39;00m _dim_zero_mean\n\u001b[1;32m     21\u001b[0m \u001b[39mfrom\u001b[39;00m \u001b[39mtorchmetrics\u001b[39;00m\u001b[39m.\u001b[39;00m\u001b[39mutilities\u001b[39;00m\u001b[39m.\u001b[39;00m\u001b[39mdata\u001b[39;00m \u001b[39mimport\u001b[39;00m dim_zero_sum \u001b[39mas\u001b[39;00m _dim_zero_sum\n\u001b[0;32m---> 22\u001b[0m \u001b[39mfrom\u001b[39;00m \u001b[39mtorchmetrics\u001b[39;00m\u001b[39m.\u001b[39;00m\u001b[39mutilities\u001b[39;00m\u001b[39m.\u001b[39;00m\u001b[39mdata\u001b[39;00m \u001b[39mimport\u001b[39;00m get_num_classes \u001b[39mas\u001b[39;00m _get_num_classes\n\u001b[1;32m     23\u001b[0m \u001b[39mfrom\u001b[39;00m \u001b[39mtorchmetrics\u001b[39;00m\u001b[39m.\u001b[39;00m\u001b[39mutilities\u001b[39;00m\u001b[39m.\u001b[39;00m\u001b[39mdata\u001b[39;00m \u001b[39mimport\u001b[39;00m select_topk \u001b[39mas\u001b[39;00m _select_topk\n\u001b[1;32m     24\u001b[0m \u001b[39mfrom\u001b[39;00m \u001b[39mtorchmetrics\u001b[39;00m\u001b[39m.\u001b[39;00m\u001b[39mutilities\u001b[39;00m\u001b[39m.\u001b[39;00m\u001b[39mdata\u001b[39;00m \u001b[39mimport\u001b[39;00m to_categorical \u001b[39mas\u001b[39;00m _to_categorical\n",
      "\u001b[0;31mImportError\u001b[0m: cannot import name 'get_num_classes' from 'torchmetrics.utilities.data' (/Users/yejin/miniforge3/envs/tf25/lib/python3.8/site-packages/torchmetrics/utilities/data.py)"
     ]
    }
   ],
   "source": [
    "from KoBARTSummary import KoBARTConditionGenerationTrainer\n",
    "trainer = KoBARTConditionGenerationTrainer(args)\n",
    "trainer.train()"
   ]
  }
 ],
 "metadata": {
  "kernelspec": {
   "display_name": "base",
   "language": "python",
   "name": "python3"
  },
  "language_info": {
   "codemirror_mode": {
    "name": "ipython",
    "version": 3
   },
   "file_extension": ".py",
   "mimetype": "text/x-python",
   "name": "python",
   "nbconvert_exporter": "python",
   "pygments_lexer": "ipython3",
   "version": "3.8.13"
  },
  "orig_nbformat": 4
 },
 "nbformat": 4,
 "nbformat_minor": 2
}
