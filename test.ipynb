{
 "cells": [
  {
   "cell_type": "code",
   "execution_count": 2,
   "metadata": {},
   "outputs": [
    {
     "name": "stdout",
     "output_type": "stream",
     "text": [
      "Collecting git+https://github.com/skku-skku/summarize-model.git\n",
      "  Cloning https://github.com/skku-skku/summarize-model.git to /private/var/folders/f4/tmy3_62j52n251v90rm6sc700000gn/T/pip-req-build-6t7m_flo\n",
      "  Running command git clone --filter=blob:none --quiet https://github.com/skku-skku/summarize-model.git /private/var/folders/f4/tmy3_62j52n251v90rm6sc700000gn/T/pip-req-build-6t7m_flo\n",
      "  Resolved https://github.com/skku-skku/summarize-model.git to commit 6e5e28c1ea7b132c5f03231741d9fa4a7313f5c7\n",
      "  Preparing metadata (setup.py) ... \u001b[?25ldone\n",
      "\u001b[?25hRequirement already satisfied: pandas in /Users/yejin/miniconda3/lib/python3.8/site-packages (from skku-skku-summarize-model==0.0.1) (1.4.4)\n",
      "Requirement already satisfied: torch==1.10.0 in /Users/yejin/miniconda3/lib/python3.8/site-packages (from skku-skku-summarize-model==0.0.1) (1.10.0)\n",
      "Requirement already satisfied: transformers==4.8.2 in /Users/yejin/miniconda3/lib/python3.8/site-packages (from skku-skku-summarize-model==0.0.1) (4.8.2)\n",
      "Requirement already satisfied: pytorch-lightning==1.3.8 in /Users/yejin/miniconda3/lib/python3.8/site-packages (from skku-skku-summarize-model==0.0.1) (1.3.8)\n",
      "Requirement already satisfied: pyDeprecate==0.3.0 in /Users/yejin/miniconda3/lib/python3.8/site-packages (from pytorch-lightning==1.3.8->skku-skku-summarize-model==0.0.1) (0.3.0)\n",
      "Requirement already satisfied: torchmetrics>=0.2.0 in /Users/yejin/miniconda3/lib/python3.8/site-packages (from pytorch-lightning==1.3.8->skku-skku-summarize-model==0.0.1) (0.11.4)\n",
      "Requirement already satisfied: tensorboard!=2.5.0,>=2.2.0 in /Users/yejin/miniconda3/lib/python3.8/site-packages (from pytorch-lightning==1.3.8->skku-skku-summarize-model==0.0.1) (2.12.0)\n",
      "Requirement already satisfied: packaging>=17.0 in /Users/yejin/miniconda3/lib/python3.8/site-packages (from pytorch-lightning==1.3.8->skku-skku-summarize-model==0.0.1) (21.3)\n",
      "Requirement already satisfied: future>=0.17.1 in /Users/yejin/miniconda3/lib/python3.8/site-packages (from pytorch-lightning==1.3.8->skku-skku-summarize-model==0.0.1) (0.18.3)\n",
      "Requirement already satisfied: fsspec[http]!=2021.06.0,>=2021.05.0 in /Users/yejin/miniconda3/lib/python3.8/site-packages (from pytorch-lightning==1.3.8->skku-skku-summarize-model==0.0.1) (2022.11.0)\n",
      "Requirement already satisfied: pillow!=8.3.0 in /Users/yejin/miniconda3/lib/python3.8/site-packages (from pytorch-lightning==1.3.8->skku-skku-summarize-model==0.0.1) (9.2.0)\n",
      "Requirement already satisfied: tqdm>=4.41.0 in /Users/yejin/miniconda3/lib/python3.8/site-packages (from pytorch-lightning==1.3.8->skku-skku-summarize-model==0.0.1) (4.64.0)\n",
      "Requirement already satisfied: PyYAML<=5.4.1,>=5.1 in /Users/yejin/miniconda3/lib/python3.8/site-packages (from pytorch-lightning==1.3.8->skku-skku-summarize-model==0.0.1) (5.4.1)\n",
      "Requirement already satisfied: numpy>=1.17.2 in /Users/yejin/miniconda3/lib/python3.8/site-packages (from pytorch-lightning==1.3.8->skku-skku-summarize-model==0.0.1) (1.23.3)\n",
      "Requirement already satisfied: typing-extensions in /Users/yejin/miniconda3/lib/python3.8/site-packages (from torch==1.10.0->skku-skku-summarize-model==0.0.1) (4.4.0)\n",
      "Requirement already satisfied: filelock in /Users/yejin/miniconda3/lib/python3.8/site-packages (from transformers==4.8.2->skku-skku-summarize-model==0.0.1) (3.9.0)\n",
      "Requirement already satisfied: regex!=2019.12.17 in /Users/yejin/miniconda3/lib/python3.8/site-packages (from transformers==4.8.2->skku-skku-summarize-model==0.0.1) (2022.9.13)\n",
      "Requirement already satisfied: requests in /Users/yejin/miniconda3/lib/python3.8/site-packages (from transformers==4.8.2->skku-skku-summarize-model==0.0.1) (2.28.1)\n",
      "Requirement already satisfied: tokenizers<0.11,>=0.10.1 in /Users/yejin/miniconda3/lib/python3.8/site-packages (from transformers==4.8.2->skku-skku-summarize-model==0.0.1) (0.10.3)\n",
      "Requirement already satisfied: huggingface-hub==0.0.12 in /Users/yejin/miniconda3/lib/python3.8/site-packages (from transformers==4.8.2->skku-skku-summarize-model==0.0.1) (0.0.12)\n",
      "Requirement already satisfied: sacremoses in /Users/yejin/miniconda3/lib/python3.8/site-packages (from transformers==4.8.2->skku-skku-summarize-model==0.0.1) (0.0.53)\n",
      "Requirement already satisfied: python-dateutil>=2.8.1 in /Users/yejin/miniconda3/lib/python3.8/site-packages (from pandas->skku-skku-summarize-model==0.0.1) (2.8.2)\n",
      "Requirement already satisfied: pytz>=2020.1 in /Users/yejin/miniconda3/lib/python3.8/site-packages (from pandas->skku-skku-summarize-model==0.0.1) (2022.1)\n",
      "Requirement already satisfied: aiohttp!=4.0.0a0,!=4.0.0a1 in /Users/yejin/miniconda3/lib/python3.8/site-packages (from fsspec[http]!=2021.06.0,>=2021.05.0->pytorch-lightning==1.3.8->skku-skku-summarize-model==0.0.1) (3.8.3)\n",
      "Requirement already satisfied: pyparsing!=3.0.5,>=2.0.2 in /Users/yejin/miniconda3/lib/python3.8/site-packages (from packaging>=17.0->pytorch-lightning==1.3.8->skku-skku-summarize-model==0.0.1) (3.0.9)\n",
      "Requirement already satisfied: six>=1.5 in /Users/yejin/miniconda3/lib/python3.8/site-packages (from python-dateutil>=2.8.1->pandas->skku-skku-summarize-model==0.0.1) (1.16.0)\n",
      "Requirement already satisfied: setuptools>=41.0.0 in /Users/yejin/miniconda3/lib/python3.8/site-packages (from tensorboard!=2.5.0,>=2.2.0->pytorch-lightning==1.3.8->skku-skku-summarize-model==0.0.1) (63.4.1)\n",
      "Requirement already satisfied: tensorboard-data-server<0.8.0,>=0.7.0 in /Users/yejin/miniconda3/lib/python3.8/site-packages (from tensorboard!=2.5.0,>=2.2.0->pytorch-lightning==1.3.8->skku-skku-summarize-model==0.0.1) (0.7.0)\n",
      "Requirement already satisfied: google-auth-oauthlib<0.5,>=0.4.1 in /Users/yejin/miniconda3/lib/python3.8/site-packages (from tensorboard!=2.5.0,>=2.2.0->pytorch-lightning==1.3.8->skku-skku-summarize-model==0.0.1) (0.4.6)\n",
      "Requirement already satisfied: tensorboard-plugin-wit>=1.6.0 in /Users/yejin/miniconda3/lib/python3.8/site-packages (from tensorboard!=2.5.0,>=2.2.0->pytorch-lightning==1.3.8->skku-skku-summarize-model==0.0.1) (1.8.1)\n",
      "Requirement already satisfied: wheel>=0.26 in /Users/yejin/miniconda3/lib/python3.8/site-packages (from tensorboard!=2.5.0,>=2.2.0->pytorch-lightning==1.3.8->skku-skku-summarize-model==0.0.1) (0.37.1)\n",
      "Requirement already satisfied: werkzeug>=1.0.1 in /Users/yejin/miniconda3/lib/python3.8/site-packages (from tensorboard!=2.5.0,>=2.2.0->pytorch-lightning==1.3.8->skku-skku-summarize-model==0.0.1) (2.2.2)\n",
      "Requirement already satisfied: markdown>=2.6.8 in /Users/yejin/miniconda3/lib/python3.8/site-packages (from tensorboard!=2.5.0,>=2.2.0->pytorch-lightning==1.3.8->skku-skku-summarize-model==0.0.1) (3.4.1)\n",
      "Requirement already satisfied: absl-py>=0.4 in /Users/yejin/miniconda3/lib/python3.8/site-packages (from tensorboard!=2.5.0,>=2.2.0->pytorch-lightning==1.3.8->skku-skku-summarize-model==0.0.1) (1.4.0)\n",
      "Requirement already satisfied: google-auth<3,>=1.6.3 in /Users/yejin/miniconda3/lib/python3.8/site-packages (from tensorboard!=2.5.0,>=2.2.0->pytorch-lightning==1.3.8->skku-skku-summarize-model==0.0.1) (2.16.2)\n",
      "Requirement already satisfied: grpcio>=1.48.2 in /Users/yejin/miniconda3/lib/python3.8/site-packages (from tensorboard!=2.5.0,>=2.2.0->pytorch-lightning==1.3.8->skku-skku-summarize-model==0.0.1) (1.51.3)\n",
      "Requirement already satisfied: protobuf>=3.19.6 in /Users/yejin/miniconda3/lib/python3.8/site-packages (from tensorboard!=2.5.0,>=2.2.0->pytorch-lightning==1.3.8->skku-skku-summarize-model==0.0.1) (3.20.1)\n",
      "Requirement already satisfied: certifi>=2017.4.17 in /Users/yejin/miniconda3/lib/python3.8/site-packages (from requests->transformers==4.8.2->skku-skku-summarize-model==0.0.1) (2022.12.7)\n",
      "Requirement already satisfied: urllib3<1.27,>=1.21.1 in /Users/yejin/miniconda3/lib/python3.8/site-packages (from requests->transformers==4.8.2->skku-skku-summarize-model==0.0.1) (1.26.11)\n",
      "Requirement already satisfied: charset-normalizer<3,>=2 in /Users/yejin/miniconda3/lib/python3.8/site-packages (from requests->transformers==4.8.2->skku-skku-summarize-model==0.0.1) (2.0.4)\n",
      "Requirement already satisfied: idna<4,>=2.5 in /Users/yejin/miniconda3/lib/python3.8/site-packages (from requests->transformers==4.8.2->skku-skku-summarize-model==0.0.1) (3.3)\n",
      "Requirement already satisfied: click in /Users/yejin/miniconda3/lib/python3.8/site-packages (from sacremoses->transformers==4.8.2->skku-skku-summarize-model==0.0.1) (7.1.2)\n",
      "Requirement already satisfied: joblib in /Users/yejin/miniconda3/lib/python3.8/site-packages (from sacremoses->transformers==4.8.2->skku-skku-summarize-model==0.0.1) (1.2.0)\n",
      "Requirement already satisfied: async-timeout<5.0,>=4.0.0a3 in /Users/yejin/miniconda3/lib/python3.8/site-packages (from aiohttp!=4.0.0a0,!=4.0.0a1->fsspec[http]!=2021.06.0,>=2021.05.0->pytorch-lightning==1.3.8->skku-skku-summarize-model==0.0.1) (4.0.2)\n",
      "Requirement already satisfied: attrs>=17.3.0 in /Users/yejin/miniconda3/lib/python3.8/site-packages (from aiohttp!=4.0.0a0,!=4.0.0a1->fsspec[http]!=2021.06.0,>=2021.05.0->pytorch-lightning==1.3.8->skku-skku-summarize-model==0.0.1) (22.1.0)\n",
      "Requirement already satisfied: frozenlist>=1.1.1 in /Users/yejin/miniconda3/lib/python3.8/site-packages (from aiohttp!=4.0.0a0,!=4.0.0a1->fsspec[http]!=2021.06.0,>=2021.05.0->pytorch-lightning==1.3.8->skku-skku-summarize-model==0.0.1) (1.3.3)\n",
      "Requirement already satisfied: aiosignal>=1.1.2 in /Users/yejin/miniconda3/lib/python3.8/site-packages (from aiohttp!=4.0.0a0,!=4.0.0a1->fsspec[http]!=2021.06.0,>=2021.05.0->pytorch-lightning==1.3.8->skku-skku-summarize-model==0.0.1) (1.2.0)\n",
      "Requirement already satisfied: yarl<2.0,>=1.0 in /Users/yejin/miniconda3/lib/python3.8/site-packages (from aiohttp!=4.0.0a0,!=4.0.0a1->fsspec[http]!=2021.06.0,>=2021.05.0->pytorch-lightning==1.3.8->skku-skku-summarize-model==0.0.1) (1.8.1)\n",
      "Requirement already satisfied: multidict<7.0,>=4.5 in /Users/yejin/miniconda3/lib/python3.8/site-packages (from aiohttp!=4.0.0a0,!=4.0.0a1->fsspec[http]!=2021.06.0,>=2021.05.0->pytorch-lightning==1.3.8->skku-skku-summarize-model==0.0.1) (6.0.2)\n",
      "Requirement already satisfied: cachetools<6.0,>=2.0.0 in /Users/yejin/miniconda3/lib/python3.8/site-packages (from google-auth<3,>=1.6.3->tensorboard!=2.5.0,>=2.2.0->pytorch-lightning==1.3.8->skku-skku-summarize-model==0.0.1) (5.1.0)\n",
      "Requirement already satisfied: pyasn1-modules>=0.2.1 in /Users/yejin/miniconda3/lib/python3.8/site-packages (from google-auth<3,>=1.6.3->tensorboard!=2.5.0,>=2.2.0->pytorch-lightning==1.3.8->skku-skku-summarize-model==0.0.1) (0.2.8)\n",
      "Requirement already satisfied: rsa<5,>=3.1.4 in /Users/yejin/miniconda3/lib/python3.8/site-packages (from google-auth<3,>=1.6.3->tensorboard!=2.5.0,>=2.2.0->pytorch-lightning==1.3.8->skku-skku-summarize-model==0.0.1) (4.9)\n",
      "Requirement already satisfied: requests-oauthlib>=0.7.0 in /Users/yejin/miniconda3/lib/python3.8/site-packages (from google-auth-oauthlib<0.5,>=0.4.1->tensorboard!=2.5.0,>=2.2.0->pytorch-lightning==1.3.8->skku-skku-summarize-model==0.0.1) (1.3.1)\n",
      "Requirement already satisfied: importlib-metadata>=4.4 in /Users/yejin/miniconda3/lib/python3.8/site-packages (from markdown>=2.6.8->tensorboard!=2.5.0,>=2.2.0->pytorch-lightning==1.3.8->skku-skku-summarize-model==0.0.1) (6.0.0)\n",
      "Requirement already satisfied: MarkupSafe>=2.1.1 in /Users/yejin/miniconda3/lib/python3.8/site-packages (from werkzeug>=1.0.1->tensorboard!=2.5.0,>=2.2.0->pytorch-lightning==1.3.8->skku-skku-summarize-model==0.0.1) (2.1.1)\n",
      "Requirement already satisfied: zipp>=0.5 in /Users/yejin/miniconda3/lib/python3.8/site-packages (from importlib-metadata>=4.4->markdown>=2.6.8->tensorboard!=2.5.0,>=2.2.0->pytorch-lightning==1.3.8->skku-skku-summarize-model==0.0.1) (3.11.0)\n",
      "Requirement already satisfied: pyasn1<0.5.0,>=0.4.6 in /Users/yejin/miniconda3/lib/python3.8/site-packages (from pyasn1-modules>=0.2.1->google-auth<3,>=1.6.3->tensorboard!=2.5.0,>=2.2.0->pytorch-lightning==1.3.8->skku-skku-summarize-model==0.0.1) (0.4.8)\n",
      "Requirement already satisfied: oauthlib>=3.0.0 in /Users/yejin/miniconda3/lib/python3.8/site-packages (from requests-oauthlib>=0.7.0->google-auth-oauthlib<0.5,>=0.4.1->tensorboard!=2.5.0,>=2.2.0->pytorch-lightning==1.3.8->skku-skku-summarize-model==0.0.1) (3.2.2)\n"
     ]
    }
   ],
   "source": [
    "!pip install git+https://github.com/skku-skku/summarize-model.git"
   ]
  },
  {
   "cell_type": "code",
   "execution_count": 1,
   "metadata": {},
   "outputs": [],
   "source": [
    "import easydict\n",
    "import logging\n",
    "\n",
    "args = easydict.EasyDict({\n",
    "    'train_file' : 'data/train.csv',\n",
    "    'test_file' : 'data/test.csv',\n",
    "    'max_len' : 128,\n",
    "    'max_epochs' : 3,\n",
    "    'num_workers' : 5,\n",
    "    'batch_size' : 14,\n",
    "    'lr' : 3e-5,\n",
    "    'warmup_ratio' : 0.1,\n",
    "})"
   ]
  },
  {
   "cell_type": "code",
   "execution_count": 3,
   "metadata": {},
   "outputs": [
    {
     "ename": "",
     "evalue": "",
     "output_type": "error",
     "traceback": [
      "\u001b[1;31mCanceled future for execute_request message before replies were done"
     ]
    },
    {
     "ename": "",
     "evalue": "",
     "output_type": "error",
     "traceback": [
      "\u001b[1;31mThe Kernel crashed while executing code in the the current cell or a previous cell. Please review the code in the cell(s) to identify a possible cause of the failure. Click <a href='https://aka.ms/vscodeJupyterKernelCrash'>here</a> for more info. View Jupyter <a href='command:jupyter.viewOutput'>log</a> for further details."
     ]
    }
   ],
   "source": [
    "from KoBARTSummary import KoBARTConditionGenerationTrainer\n",
    "brew \n",
    "trainer = KoBARTConditionGenerationTrainer(args)"
   ]
  },
  {
   "cell_type": "code",
   "execution_count": null,
   "metadata": {},
   "outputs": [],
   "source": [
    "trainer.train()"
   ]
  }
 ],
 "metadata": {
  "kernelspec": {
   "display_name": "base",
   "language": "python",
   "name": "python3"
  },
  "language_info": {
   "codemirror_mode": {
    "name": "ipython",
    "version": 3
   },
   "file_extension": ".py",
   "mimetype": "text/x-python",
   "name": "python",
   "nbconvert_exporter": "python",
   "pygments_lexer": "ipython3",
   "version": "3.8.13"
  },
  "orig_nbformat": 4
 },
 "nbformat": 4,
 "nbformat_minor": 2
}
